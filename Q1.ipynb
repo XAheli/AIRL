{
  "cells": [
    {
      "cell_type": "markdown",
      "metadata": {
        "id": "kBLeRVmZ31WS"
      },
      "source": [
        "This notebook implements a Vision Transformer (ViT) from scratch using PyTorch for CIFAR-10 classification.\n",
        "\n",
        "**Paper**: An Image is Worth 16x16 Words: Transformers for Image Recognition at Scale\n",
        "**Authors**: Dosovitskiy et al., ICLR 2021"
      ]
    },
    {
      "cell_type": "code",
      "execution_count": 1,
      "metadata": {
        "colab": {
          "base_uri": "https://localhost:8080/"
        },
        "id": "KdCw95uk31WT",
        "outputId": "a956f740-cfff-49e8-a57b-74df28c2f2cd"
      },
      "outputs": [
        {
          "output_type": "stream",
          "name": "stdout",
          "text": [
            "Requirement already satisfied: torch in /usr/local/lib/python3.12/dist-packages (2.8.0+cu126)\n",
            "Requirement already satisfied: torchvision in /usr/local/lib/python3.12/dist-packages (0.23.0+cu126)\n",
            "Requirement already satisfied: matplotlib in /usr/local/lib/python3.12/dist-packages (3.10.0)\n",
            "Requirement already satisfied: numpy in /usr/local/lib/python3.12/dist-packages (2.0.2)\n",
            "Requirement already satisfied: tqdm in /usr/local/lib/python3.12/dist-packages (4.67.1)\n",
            "Requirement already satisfied: filelock in /usr/local/lib/python3.12/dist-packages (from torch) (3.19.1)\n",
            "Requirement already satisfied: typing-extensions>=4.10.0 in /usr/local/lib/python3.12/dist-packages (from torch) (4.15.0)\n",
            "Requirement already satisfied: setuptools in /usr/local/lib/python3.12/dist-packages (from torch) (75.2.0)\n",
            "Requirement already satisfied: sympy>=1.13.3 in /usr/local/lib/python3.12/dist-packages (from torch) (1.13.3)\n",
            "Requirement already satisfied: networkx in /usr/local/lib/python3.12/dist-packages (from torch) (3.5)\n",
            "Requirement already satisfied: jinja2 in /usr/local/lib/python3.12/dist-packages (from torch) (3.1.6)\n",
            "Requirement already satisfied: fsspec in /usr/local/lib/python3.12/dist-packages (from torch) (2025.3.0)\n",
            "Requirement already satisfied: nvidia-cuda-nvrtc-cu12==12.6.77 in /usr/local/lib/python3.12/dist-packages (from torch) (12.6.77)\n",
            "Requirement already satisfied: nvidia-cuda-runtime-cu12==12.6.77 in /usr/local/lib/python3.12/dist-packages (from torch) (12.6.77)\n",
            "Requirement already satisfied: nvidia-cuda-cupti-cu12==12.6.80 in /usr/local/lib/python3.12/dist-packages (from torch) (12.6.80)\n",
            "Requirement already satisfied: nvidia-cudnn-cu12==9.10.2.21 in /usr/local/lib/python3.12/dist-packages (from torch) (9.10.2.21)\n",
            "Requirement already satisfied: nvidia-cublas-cu12==12.6.4.1 in /usr/local/lib/python3.12/dist-packages (from torch) (12.6.4.1)\n",
            "Requirement already satisfied: nvidia-cufft-cu12==11.3.0.4 in /usr/local/lib/python3.12/dist-packages (from torch) (11.3.0.4)\n",
            "Requirement already satisfied: nvidia-curand-cu12==10.3.7.77 in /usr/local/lib/python3.12/dist-packages (from torch) (10.3.7.77)\n",
            "Requirement already satisfied: nvidia-cusolver-cu12==11.7.1.2 in /usr/local/lib/python3.12/dist-packages (from torch) (11.7.1.2)\n",
            "Requirement already satisfied: nvidia-cusparse-cu12==12.5.4.2 in /usr/local/lib/python3.12/dist-packages (from torch) (12.5.4.2)\n",
            "Requirement already satisfied: nvidia-cusparselt-cu12==0.7.1 in /usr/local/lib/python3.12/dist-packages (from torch) (0.7.1)\n",
            "Requirement already satisfied: nvidia-nccl-cu12==2.27.3 in /usr/local/lib/python3.12/dist-packages (from torch) (2.27.3)\n",
            "Requirement already satisfied: nvidia-nvtx-cu12==12.6.77 in /usr/local/lib/python3.12/dist-packages (from torch) (12.6.77)\n",
            "Requirement already satisfied: nvidia-nvjitlink-cu12==12.6.85 in /usr/local/lib/python3.12/dist-packages (from torch) (12.6.85)\n",
            "Requirement already satisfied: nvidia-cufile-cu12==1.11.1.6 in /usr/local/lib/python3.12/dist-packages (from torch) (1.11.1.6)\n",
            "Requirement already satisfied: triton==3.4.0 in /usr/local/lib/python3.12/dist-packages (from torch) (3.4.0)\n",
            "Requirement already satisfied: pillow!=8.3.*,>=5.3.0 in /usr/local/lib/python3.12/dist-packages (from torchvision) (11.3.0)\n",
            "Requirement already satisfied: contourpy>=1.0.1 in /usr/local/lib/python3.12/dist-packages (from matplotlib) (1.3.3)\n",
            "Requirement already satisfied: cycler>=0.10 in /usr/local/lib/python3.12/dist-packages (from matplotlib) (0.12.1)\n",
            "Requirement already satisfied: fonttools>=4.22.0 in /usr/local/lib/python3.12/dist-packages (from matplotlib) (4.60.1)\n",
            "Requirement already satisfied: kiwisolver>=1.3.1 in /usr/local/lib/python3.12/dist-packages (from matplotlib) (1.4.9)\n",
            "Requirement already satisfied: packaging>=20.0 in /usr/local/lib/python3.12/dist-packages (from matplotlib) (25.0)\n",
            "Requirement already satisfied: pyparsing>=2.3.1 in /usr/local/lib/python3.12/dist-packages (from matplotlib) (3.2.5)\n",
            "Requirement already satisfied: python-dateutil>=2.7 in /usr/local/lib/python3.12/dist-packages (from matplotlib) (2.9.0.post0)\n",
            "Requirement already satisfied: six>=1.5 in /usr/local/lib/python3.12/dist-packages (from python-dateutil>=2.7->matplotlib) (1.17.0)\n",
            "Requirement already satisfied: mpmath<1.4,>=1.1.0 in /usr/local/lib/python3.12/dist-packages (from sympy>=1.13.3->torch) (1.3.0)\n",
            "Requirement already satisfied: MarkupSafe>=2.0 in /usr/local/lib/python3.12/dist-packages (from jinja2->torch) (3.0.3)\n",
            "Requirement already satisfied: timm in /usr/local/lib/python3.12/dist-packages (1.0.20)\n",
            "Requirement already satisfied: torch in /usr/local/lib/python3.12/dist-packages (from timm) (2.8.0+cu126)\n",
            "Requirement already satisfied: torchvision in /usr/local/lib/python3.12/dist-packages (from timm) (0.23.0+cu126)\n",
            "Requirement already satisfied: pyyaml in /usr/local/lib/python3.12/dist-packages (from timm) (6.0.3)\n",
            "Requirement already satisfied: huggingface_hub in /usr/local/lib/python3.12/dist-packages (from timm) (0.35.3)\n",
            "Requirement already satisfied: safetensors in /usr/local/lib/python3.12/dist-packages (from timm) (0.6.2)\n",
            "Requirement already satisfied: filelock in /usr/local/lib/python3.12/dist-packages (from huggingface_hub->timm) (3.19.1)\n",
            "Requirement already satisfied: fsspec>=2023.5.0 in /usr/local/lib/python3.12/dist-packages (from huggingface_hub->timm) (2025.3.0)\n",
            "Requirement already satisfied: packaging>=20.9 in /usr/local/lib/python3.12/dist-packages (from huggingface_hub->timm) (25.0)\n",
            "Requirement already satisfied: requests in /usr/local/lib/python3.12/dist-packages (from huggingface_hub->timm) (2.32.4)\n",
            "Requirement already satisfied: tqdm>=4.42.1 in /usr/local/lib/python3.12/dist-packages (from huggingface_hub->timm) (4.67.1)\n",
            "Requirement already satisfied: typing-extensions>=3.7.4.3 in /usr/local/lib/python3.12/dist-packages (from huggingface_hub->timm) (4.15.0)\n",
            "Requirement already satisfied: hf-xet<2.0.0,>=1.1.3 in /usr/local/lib/python3.12/dist-packages (from huggingface_hub->timm) (1.1.10)\n",
            "Requirement already satisfied: setuptools in /usr/local/lib/python3.12/dist-packages (from torch->timm) (75.2.0)\n",
            "Requirement already satisfied: sympy>=1.13.3 in /usr/local/lib/python3.12/dist-packages (from torch->timm) (1.13.3)\n",
            "Requirement already satisfied: networkx in /usr/local/lib/python3.12/dist-packages (from torch->timm) (3.5)\n",
            "Requirement already satisfied: jinja2 in /usr/local/lib/python3.12/dist-packages (from torch->timm) (3.1.6)\n",
            "Requirement already satisfied: nvidia-cuda-nvrtc-cu12==12.6.77 in /usr/local/lib/python3.12/dist-packages (from torch->timm) (12.6.77)\n",
            "Requirement already satisfied: nvidia-cuda-runtime-cu12==12.6.77 in /usr/local/lib/python3.12/dist-packages (from torch->timm) (12.6.77)\n",
            "Requirement already satisfied: nvidia-cuda-cupti-cu12==12.6.80 in /usr/local/lib/python3.12/dist-packages (from torch->timm) (12.6.80)\n",
            "Requirement already satisfied: nvidia-cudnn-cu12==9.10.2.21 in /usr/local/lib/python3.12/dist-packages (from torch->timm) (9.10.2.21)\n",
            "Requirement already satisfied: nvidia-cublas-cu12==12.6.4.1 in /usr/local/lib/python3.12/dist-packages (from torch->timm) (12.6.4.1)\n",
            "Requirement already satisfied: nvidia-cufft-cu12==11.3.0.4 in /usr/local/lib/python3.12/dist-packages (from torch->timm) (11.3.0.4)\n",
            "Requirement already satisfied: nvidia-curand-cu12==10.3.7.77 in /usr/local/lib/python3.12/dist-packages (from torch->timm) (10.3.7.77)\n",
            "Requirement already satisfied: nvidia-cusolver-cu12==11.7.1.2 in /usr/local/lib/python3.12/dist-packages (from torch->timm) (11.7.1.2)\n",
            "Requirement already satisfied: nvidia-cusparse-cu12==12.5.4.2 in /usr/local/lib/python3.12/dist-packages (from torch->timm) (12.5.4.2)\n",
            "Requirement already satisfied: nvidia-cusparselt-cu12==0.7.1 in /usr/local/lib/python3.12/dist-packages (from torch->timm) (0.7.1)\n",
            "Requirement already satisfied: nvidia-nccl-cu12==2.27.3 in /usr/local/lib/python3.12/dist-packages (from torch->timm) (2.27.3)\n",
            "Requirement already satisfied: nvidia-nvtx-cu12==12.6.77 in /usr/local/lib/python3.12/dist-packages (from torch->timm) (12.6.77)\n",
            "Requirement already satisfied: nvidia-nvjitlink-cu12==12.6.85 in /usr/local/lib/python3.12/dist-packages (from torch->timm) (12.6.85)\n",
            "Requirement already satisfied: nvidia-cufile-cu12==1.11.1.6 in /usr/local/lib/python3.12/dist-packages (from torch->timm) (1.11.1.6)\n",
            "Requirement already satisfied: triton==3.4.0 in /usr/local/lib/python3.12/dist-packages (from torch->timm) (3.4.0)\n",
            "Requirement already satisfied: numpy in /usr/local/lib/python3.12/dist-packages (from torchvision->timm) (2.0.2)\n",
            "Requirement already satisfied: pillow!=8.3.*,>=5.3.0 in /usr/local/lib/python3.12/dist-packages (from torchvision->timm) (11.3.0)\n",
            "Requirement already satisfied: mpmath<1.4,>=1.1.0 in /usr/local/lib/python3.12/dist-packages (from sympy>=1.13.3->torch->timm) (1.3.0)\n",
            "Requirement already satisfied: MarkupSafe>=2.0 in /usr/local/lib/python3.12/dist-packages (from jinja2->torch->timm) (3.0.3)\n",
            "Requirement already satisfied: charset_normalizer<4,>=2 in /usr/local/lib/python3.12/dist-packages (from requests->huggingface_hub->timm) (3.4.3)\n",
            "Requirement already satisfied: idna<4,>=2.5 in /usr/local/lib/python3.12/dist-packages (from requests->huggingface_hub->timm) (3.10)\n",
            "Requirement already satisfied: urllib3<3,>=1.21.1 in /usr/local/lib/python3.12/dist-packages (from requests->huggingface_hub->timm) (2.5.0)\n",
            "Requirement already satisfied: certifi>=2017.4.17 in /usr/local/lib/python3.12/dist-packages (from requests->huggingface_hub->timm) (2025.8.3)\n"
          ]
        }
      ],
      "source": [
        "!pip install torch torchvision matplotlib numpy tqdm\n",
        "!pip install timm"
      ]
    },
    {
      "cell_type": "code",
      "execution_count": 2,
      "metadata": {
        "colab": {
          "base_uri": "https://localhost:8080/"
        },
        "id": "p4_kkzg331WU",
        "outputId": "a2725d12-9577-44bc-8a34-1e1421993b54"
      },
      "outputs": [
        {
          "output_type": "stream",
          "name": "stdout",
          "text": [
            "Using device: cuda\n"
          ]
        }
      ],
      "source": [
        "import torch\n",
        "import torch.nn as nn\n",
        "import torch.nn.functional as F\n",
        "import torch.optim as optim\n",
        "from torch.utils.data import DataLoader, random_split\n",
        "\n",
        "import torchvision\n",
        "import torchvision.transforms as transforms\n",
        "\n",
        "import numpy as np\n",
        "import matplotlib.pyplot as plt\n",
        "import math\n",
        "import random\n",
        "from tqdm import tqdm\n",
        "\n",
        "# Set random seeds for reproducibility\n",
        "torch.manual_seed(42)\n",
        "np.random.seed(42)\n",
        "random.seed(42)\n",
        "\n",
        "# Device configuration\n",
        "device = torch.device('cuda' if torch.cuda.is_available() else 'cpu')\n",
        "print(f'Using device: {device}')"
      ]
    },
    {
      "cell_type": "markdown",
      "metadata": {
        "id": "5Ww0mNmH31WU"
      },
      "source": [
        "## Configuration and Hyperparameters\n",
        "\n",
        "Our custom configuration optimized for CIFAR-10:"
      ]
    },
    {
      "cell_type": "code",
      "execution_count": 3,
      "metadata": {
        "id": "x6bbzuod31WU"
      },
      "outputs": [],
      "source": [
        "class Config:\n",
        "    # Model architecture\n",
        "    img_size = 32          # CIFAR-10 image size\n",
        "    patch_size = 4         # Smaller patches for small images\n",
        "    num_classes = 10       # CIFAR-10 classes\n",
        "    embed_dim = 320        # Embedding dimension (our choice)\n",
        "    num_heads = 8          # Multi-head attention heads\n",
        "    num_layers = 8         # Number of transformer blocks\n",
        "    mlp_ratio = 4          # MLP hidden dimension ratio\n",
        "    dropout = 0.1          # Dropout rate\n",
        "    attention_dropout = 0.1\n",
        "\n",
        "    # Training parameters\n",
        "    batch_size = 128\n",
        "    epochs = 50\n",
        "    learning_rate = 1e-3\n",
        "    weight_decay = 5e-4\n",
        "    warmup_epochs = 10\n",
        "\n",
        "    # Data augmentation\n",
        "    use_mixup = True\n",
        "    mixup_alpha = 0.8\n",
        "    cutmix_alpha = 1.0\n",
        "\n",
        "config = Config()"
      ]
    },
    {
      "cell_type": "markdown",
      "metadata": {
        "id": "ZbKiZ6Nm31WU"
      },
      "source": [
        "## Data Preparation with Advanced Augmentation"
      ]
    },
    {
      "cell_type": "code",
      "execution_count": 4,
      "metadata": {
        "colab": {
          "base_uri": "https://localhost:8080/"
        },
        "id": "XZeuxW9j31WU",
        "outputId": "95d8222f-ac9d-4d91-a1f4-287bc9311080"
      },
      "outputs": [
        {
          "output_type": "stream",
          "name": "stdout",
          "text": [
            "Training samples: 45000\n",
            "Validation samples: 5000\n",
            "Test samples: 10000\n"
          ]
        }
      ],
      "source": [
        "# Advanced data augmentation pipeline\n",
        "def get_transforms():\n",
        "    train_transform = transforms.Compose([\n",
        "        transforms.RandomHorizontalFlip(p=0.5),\n",
        "        transforms.RandomRotation(15),\n",
        "        transforms.RandomAffine(degrees=0, translate=(0.1, 0.1)),\n",
        "        transforms.ColorJitter(brightness=0.2, contrast=0.2, saturation=0.2, hue=0.1),\n",
        "        transforms.ToTensor(),\n",
        "        transforms.Normalize((0.4914, 0.4822, 0.4465), (0.2470, 0.2435, 0.2616)),\n",
        "        transforms.RandomErasing(p=0.25)\n",
        "    ])\n",
        "\n",
        "    test_transform = transforms.Compose([\n",
        "        transforms.ToTensor(),\n",
        "        transforms.Normalize((0.4914, 0.4822, 0.4465), (0.2470, 0.2435, 0.2616))\n",
        "    ])\n",
        "\n",
        "    return train_transform, test_transform\n",
        "\n",
        "# Load CIFAR-10 dataset\n",
        "train_transform, test_transform = get_transforms()\n",
        "\n",
        "full_train_dataset = torchvision.datasets.CIFAR10(\n",
        "    root='./data', train=True, download=True, transform=train_transform)\n",
        "test_dataset = torchvision.datasets.CIFAR10(\n",
        "    root='./data', train=False, download=True, transform=test_transform)\n",
        "\n",
        "# Split training set into train/validation (45k/5k split)\n",
        "train_size = 45000\n",
        "val_size = 5000\n",
        "train_dataset, val_dataset = random_split(full_train_dataset, [train_size, val_size])\n",
        "\n",
        "# Create data loaders\n",
        "train_loader = DataLoader(train_dataset, batch_size=config.batch_size,\n",
        "                         shuffle=True, num_workers=2, pin_memory=True)\n",
        "val_loader = DataLoader(val_dataset, batch_size=config.batch_size,\n",
        "                       shuffle=False, num_workers=2, pin_memory=True)\n",
        "test_loader = DataLoader(test_dataset, batch_size=config.batch_size,\n",
        "                        shuffle=False, num_workers=2, pin_memory=True)\n",
        "\n",
        "print(f'Training samples: {len(train_dataset)}')\n",
        "print(f'Validation samples: {len(val_dataset)}')\n",
        "print(f'Test samples: {len(test_dataset)}')"
      ]
    },
    {
      "cell_type": "markdown",
      "metadata": {
        "id": "EceOX6-C31WV"
      },
      "source": [
        "## Vision Transformer Implementation from Scratch"
      ]
    },
    {
      "cell_type": "code",
      "execution_count": 5,
      "metadata": {
        "id": "7DGqG9dP31WV"
      },
      "outputs": [],
      "source": [
        "class PatchEmbedding(nn.Module):\n",
        "    \"\"\"Patch Embedding: Convert image patches to embeddings\"\"\"\n",
        "\n",
        "    def __init__(self, img_size=32, patch_size=4, in_channels=3, embed_dim=320):\n",
        "        super().__init__()\n",
        "        self.img_size = img_size\n",
        "        self.patch_size = patch_size\n",
        "        self.num_patches = (img_size // patch_size) ** 2\n",
        "\n",
        "        # Use convolution to create patches and embed them\n",
        "        self.projection = nn.Conv2d(\n",
        "            in_channels, embed_dim,\n",
        "            kernel_size=patch_size,\n",
        "            stride=patch_size\n",
        "        )\n",
        "\n",
        "    def forward(self, x):\n",
        "        B, C, H, W = x.shape\n",
        "        # Apply convolution and reshape\n",
        "        x = self.projection(x)  # (B, embed_dim, H//patch_size, W//patch_size)\n",
        "        x = x.flatten(2).transpose(1, 2)  # (B, num_patches, embed_dim)\n",
        "        return x"
      ]
    },
    {
      "cell_type": "code",
      "execution_count": 6,
      "metadata": {
        "id": "FBSILhe931WV"
      },
      "outputs": [],
      "source": [
        "class MultiHeadAttention(nn.Module):\n",
        "    \"\"\"Multi-Head Self-Attention mechanism\"\"\"\n",
        "\n",
        "    def __init__(self, embed_dim, num_heads, dropout=0.1):\n",
        "        super().__init__()\n",
        "        assert embed_dim % num_heads == 0\n",
        "\n",
        "        self.embed_dim = embed_dim\n",
        "        self.num_heads = num_heads\n",
        "        self.head_dim = embed_dim // num_heads\n",
        "        self.scale = self.head_dim ** -0.5\n",
        "\n",
        "        self.qkv = nn.Linear(embed_dim, embed_dim * 3, bias=False)\n",
        "        self.proj = nn.Linear(embed_dim, embed_dim)\n",
        "        self.attn_dropout = nn.Dropout(dropout)\n",
        "        self.proj_dropout = nn.Dropout(dropout)\n",
        "\n",
        "    def forward(self, x):\n",
        "        B, N, C = x.shape\n",
        "\n",
        "        # Generate Q, K, V\n",
        "        qkv = self.qkv(x).reshape(B, N, 3, self.num_heads, self.head_dim).permute(2, 0, 3, 1, 4)\n",
        "        q, k, v = qkv.unbind(0)\n",
        "\n",
        "        # Scaled dot-product attention\n",
        "        attn = (q @ k.transpose(-2, -1)) * self.scale\n",
        "        attn = attn.softmax(dim=-1)\n",
        "        attn = self.attn_dropout(attn)\n",
        "\n",
        "        # Apply attention to values\n",
        "        x = (attn @ v).transpose(1, 2).reshape(B, N, C)\n",
        "        x = self.proj(x)\n",
        "        x = self.proj_dropout(x)\n",
        "\n",
        "        return x"
      ]
    },
    {
      "cell_type": "code",
      "execution_count": 7,
      "metadata": {
        "id": "W2O46bLU31WV"
      },
      "outputs": [],
      "source": [
        "class MLP(nn.Module):\n",
        "    \"\"\"Multi-Layer Perceptron with GELU activation\"\"\"\n",
        "\n",
        "    def __init__(self, embed_dim, mlp_ratio=4, dropout=0.1):\n",
        "        super().__init__()\n",
        "        hidden_dim = int(embed_dim * mlp_ratio)\n",
        "\n",
        "        self.fc1 = nn.Linear(embed_dim, hidden_dim)\n",
        "        self.act = nn.GELU()\n",
        "        self.dropout1 = nn.Dropout(dropout)\n",
        "        self.fc2 = nn.Linear(hidden_dim, embed_dim)\n",
        "        self.dropout2 = nn.Dropout(dropout)\n",
        "\n",
        "    def forward(self, x):\n",
        "        x = self.fc1(x)\n",
        "        x = self.act(x)\n",
        "        x = self.dropout1(x)\n",
        "        x = self.fc2(x)\n",
        "        x = self.dropout2(x)\n",
        "        return x"
      ]
    },
    {
      "cell_type": "code",
      "execution_count": 8,
      "metadata": {
        "id": "bO3Nh54h31WV"
      },
      "outputs": [],
      "source": [
        "class TransformerBlock(nn.Module):\n",
        "    \"\"\"Transformer Encoder Block with attention and MLP\"\"\"\n",
        "\n",
        "    def __init__(self, embed_dim, num_heads, mlp_ratio=4, dropout=0.1, attention_dropout=0.1):\n",
        "        super().__init__()\n",
        "\n",
        "        self.norm1 = nn.LayerNorm(embed_dim)\n",
        "        self.attn = MultiHeadAttention(embed_dim, num_heads, attention_dropout)\n",
        "\n",
        "        self.norm2 = nn.LayerNorm(embed_dim)\n",
        "        self.mlp = MLP(embed_dim, mlp_ratio, dropout)\n",
        "\n",
        "        # Stochastic depth (layer dropout)\n",
        "        self.drop_path = nn.Dropout(dropout) if dropout > 0 else nn.Identity()\n",
        "\n",
        "    def forward(self, x):\n",
        "        # Pre-norm with residual connection\n",
        "        x = x + self.drop_path(self.attn(self.norm1(x)))\n",
        "        x = x + self.drop_path(self.mlp(self.norm2(x)))\n",
        "        return x"
      ]
    },
    {
      "cell_type": "code",
      "execution_count": 9,
      "metadata": {
        "colab": {
          "base_uri": "https://localhost:8080/"
        },
        "id": "D71BehSM31WW",
        "outputId": "5fb6c567-838a-489d-9b9c-09b5b514e484"
      },
      "outputs": [
        {
          "output_type": "stream",
          "name": "stdout",
          "text": [
            "Total parameters: 9,896,650\n",
            "Trainable parameters: 9,896,650\n"
          ]
        }
      ],
      "source": [
        "class VisionTransformer(nn.Module):\n",
        "\n",
        "    def __init__(self, config):\n",
        "        super().__init__()\n",
        "\n",
        "        # Patch embedding\n",
        "        self.patch_embed = PatchEmbedding(\n",
        "            img_size=config.img_size,\n",
        "            patch_size=config.patch_size,\n",
        "            embed_dim=config.embed_dim\n",
        "        )\n",
        "\n",
        "        num_patches = self.patch_embed.num_patches\n",
        "\n",
        "        # Learnable CLS token\n",
        "        self.cls_token = nn.Parameter(torch.zeros(1, 1, config.embed_dim))\n",
        "\n",
        "        # Learnable positional embeddings\n",
        "        self.pos_embed = nn.Parameter(torch.zeros(1, num_patches + 1, config.embed_dim))\n",
        "\n",
        "        self.pos_drop = nn.Dropout(config.dropout)\n",
        "\n",
        "        # Transformer encoder blocks\n",
        "        self.blocks = nn.ModuleList([\n",
        "            TransformerBlock(\n",
        "                embed_dim=config.embed_dim,\n",
        "                num_heads=config.num_heads,\n",
        "                mlp_ratio=config.mlp_ratio,\n",
        "                dropout=config.dropout,\n",
        "                attention_dropout=config.attention_dropout\n",
        "            ) for _ in range(config.num_layers)\n",
        "        ])\n",
        "\n",
        "        # Classification head\n",
        "        self.norm = nn.LayerNorm(config.embed_dim)\n",
        "        self.head = nn.Linear(config.embed_dim, config.num_classes)\n",
        "\n",
        "        # Initialize weights\n",
        "        self.init_weights()\n",
        "\n",
        "    def init_weights(self):\n",
        "        # Initialize positional embeddings\n",
        "        nn.init.trunc_normal_(self.pos_embed, std=0.02)\n",
        "        nn.init.trunc_normal_(self.cls_token, std=0.02)\n",
        "\n",
        "        # Initialize linear layers\n",
        "        for m in self.modules():\n",
        "            if isinstance(m, nn.Linear):\n",
        "                nn.init.trunc_normal_(m.weight, std=0.02)\n",
        "                if m.bias is not None:\n",
        "                    nn.init.constant_(m.bias, 0)\n",
        "            elif isinstance(m, nn.LayerNorm):\n",
        "                nn.init.constant_(m.bias, 0)\n",
        "                nn.init.constant_(m.weight, 1.0)\n",
        "\n",
        "    def forward(self, x):\n",
        "        B = x.shape[0]\n",
        "\n",
        "        # Patch embedding\n",
        "        x = self.patch_embed(x)\n",
        "\n",
        "        # Add CLS token\n",
        "        cls_tokens = self.cls_token.expand(B, -1, -1)\n",
        "        x = torch.cat((cls_tokens, x), dim=1)\n",
        "\n",
        "        # Add positional embeddings\n",
        "        x = x + self.pos_embed\n",
        "        x = self.pos_drop(x)\n",
        "\n",
        "        # Apply transformer blocks\n",
        "        for block in self.blocks:\n",
        "            x = block(x)\n",
        "\n",
        "        # Classification head (use CLS token)\n",
        "        x = self.norm(x[:, 0])\n",
        "        x = self.head(x)\n",
        "\n",
        "        return x\n",
        "\n",
        "# Create model\n",
        "model = VisionTransformer(config).to(device)\n",
        "\n",
        "# Count parameters\n",
        "total_params = sum(p.numel() for p in model.parameters())\n",
        "trainable_params = sum(p.numel() for p in model.parameters() if p.requires_grad)\n",
        "print(f'Total parameters: {total_params:,}')\n",
        "print(f'Trainable parameters: {trainable_params:,}')"
      ]
    },
    {
      "cell_type": "markdown",
      "metadata": {
        "id": "6BPITZp_31WW"
      },
      "source": [
        "## Training Setup and Utilities"
      ]
    },
    {
      "cell_type": "code",
      "execution_count": 10,
      "metadata": {
        "colab": {
          "base_uri": "https://localhost:8080/"
        },
        "id": "AU34sT1D31WW",
        "outputId": "7956b468-889d-4d87-8d8b-f4ea7ef869b4"
      },
      "outputs": [
        {
          "output_type": "stream",
          "name": "stdout",
          "text": [
            "Total training steps: 17600\n",
            "Warmup steps: 3520\n"
          ]
        }
      ],
      "source": [
        "def mixup_data(x, y, alpha=1.0):\n",
        "    \"\"\"Mixup data augmentation\"\"\"\n",
        "    if alpha > 0:\n",
        "        lam = np.random.beta(alpha, alpha)\n",
        "    else:\n",
        "        lam = 1\n",
        "\n",
        "    batch_size = x.size(0)\n",
        "    index = torch.randperm(batch_size).to(device)\n",
        "\n",
        "    mixed_x = lam * x + (1 - lam) * x[index]\n",
        "    y_a, y_b = y, y[index]\n",
        "    return mixed_x, y_a, y_b, lam\n",
        "\n",
        "def mixup_criterion(criterion, pred, y_a, y_b, lam):\n",
        "    \"\"\"Mixup loss calculation\"\"\"\n",
        "    return lam * criterion(pred, y_a) + (1 - lam) * criterion(pred, y_b)\n",
        "\n",
        "def get_cosine_schedule_with_warmup(optimizer, num_warmup_steps, num_training_steps):\n",
        "    \"\"\"Cosine learning rate scheduler with warmup\"\"\"\n",
        "    def lr_lambda(current_step):\n",
        "        if current_step < num_warmup_steps:\n",
        "            return float(current_step) / float(max(1, num_warmup_steps))\n",
        "        progress = float(current_step - num_warmup_steps) / float(max(1, num_training_steps - num_warmup_steps))\n",
        "        return max(0.0, 0.5 * (1.0 + math.cos(math.pi * progress)))\n",
        "\n",
        "    return torch.optim.lr_scheduler.LambdaLR(optimizer, lr_lambda)\n",
        "\n",
        "# Setup optimizer and scheduler\n",
        "optimizer = optim.AdamW(model.parameters(),\n",
        "                      lr=config.learning_rate,\n",
        "                      weight_decay=config.weight_decay)\n",
        "\n",
        "num_training_steps = len(train_loader) * config.epochs\n",
        "num_warmup_steps = len(train_loader) * config.warmup_epochs\n",
        "\n",
        "scheduler = get_cosine_schedule_with_warmup(optimizer, num_warmup_steps, num_training_steps)\n",
        "criterion = nn.CrossEntropyLoss(label_smoothing=0.1)  # Label smoothing\n",
        "\n",
        "print(f'Total training steps: {num_training_steps}')\n",
        "print(f'Warmup steps: {num_warmup_steps}')"
      ]
    },
    {
      "cell_type": "markdown",
      "metadata": {
        "id": "hFN0sJit31WW"
      },
      "source": [
        "## Training Loop"
      ]
    },
    {
      "cell_type": "code",
      "execution_count": 11,
      "metadata": {
        "id": "pTEVFY9y31WW"
      },
      "outputs": [],
      "source": [
        "def train_epoch(model, loader, optimizer, scheduler, criterion, epoch):\n",
        "    model.train()\n",
        "    total_loss = 0\n",
        "    correct = 0\n",
        "    total = 0\n",
        "\n",
        "    pbar = tqdm(loader, desc=f'Epoch {epoch+1}/{config.epochs}')\n",
        "\n",
        "    for batch_idx, (data, target) in enumerate(pbar):\n",
        "        data, target = data.to(device), target.to(device)\n",
        "\n",
        "        # Apply mixup with probability\n",
        "        if config.use_mixup and np.random.random() > 0.5:\n",
        "            data, target_a, target_b, lam = mixup_data(data, target, config.mixup_alpha)\n",
        "\n",
        "            optimizer.zero_grad()\n",
        "            output = model(data)\n",
        "            loss = mixup_criterion(criterion, output, target_a, target_b, lam)\n",
        "        else:\n",
        "            optimizer.zero_grad()\n",
        "            output = model(data)\n",
        "            loss = criterion(output, target)\n",
        "\n",
        "        loss.backward()\n",
        "\n",
        "        # Gradient clipping\n",
        "        torch.nn.utils.clip_grad_norm_(model.parameters(), max_norm=1.0)\n",
        "\n",
        "        optimizer.step()\n",
        "        scheduler.step()\n",
        "\n",
        "        total_loss += loss.item()\n",
        "        pred = output.argmax(dim=1, keepdim=True)\n",
        "        correct += pred.eq(target.view_as(pred)).sum().item()\n",
        "        total += target.size(0)\n",
        "\n",
        "        # Update progress bar\n",
        "        accuracy = 100. * correct / total\n",
        "        pbar.set_postfix({\n",
        "            'Loss': f'{loss.item():.4f}',\n",
        "            'Acc': f'{accuracy:.2f}%',\n",
        "            'LR': f'{scheduler.get_last_lr()[0]:.6f}'\n",
        "        })\n",
        "\n",
        "    return total_loss / len(loader), 100. * correct / total\n",
        "\n",
        "def validate(model, loader, criterion):\n",
        "    model.eval()\n",
        "    total_loss = 0\n",
        "    correct = 0\n",
        "    total = 0\n",
        "\n",
        "    with torch.no_grad():\n",
        "        for data, target in loader:\n",
        "            data, target = data.to(device), target.to(device)\n",
        "            output = model(data)\n",
        "            loss = criterion(output, target)\n",
        "\n",
        "            total_loss += loss.item()\n",
        "            pred = output.argmax(dim=1, keepdim=True)\n",
        "            correct += pred.eq(target.view_as(pred)).sum().item()\n",
        "            total += target.size(0)\n",
        "\n",
        "    return total_loss / len(loader), 100. * correct / total"
      ]
    },
    {
      "cell_type": "code",
      "execution_count": 12,
      "metadata": {
        "colab": {
          "base_uri": "https://localhost:8080/"
        },
        "id": "F2S6HcrU31WW",
        "outputId": "79401574-8fb4-48a1-d6db-6bde2c3f1a21"
      },
      "outputs": [
        {
          "output_type": "stream",
          "name": "stdout",
          "text": [
            "Starting training...\n"
          ]
        },
        {
          "output_type": "stream",
          "name": "stderr",
          "text": [
            "Epoch 1/50: 100%|██████████| 352/352 [01:17<00:00,  4.57it/s, Loss=1.9553, Acc=20.42%, LR=0.000100]\n"
          ]
        },
        {
          "output_type": "stream",
          "name": "stdout",
          "text": [
            "Epoch 1/50:\n",
            "  Train Loss: 2.1302, Train Acc: 20.42%\n",
            "  Val Loss: 2.0003, Val Acc: 29.12%\n",
            "  Best Val Acc: 29.12%\n",
            "--------------------------------------------------\n"
          ]
        },
        {
          "output_type": "stream",
          "name": "stderr",
          "text": [
            "Epoch 2/50: 100%|██████████| 352/352 [01:15<00:00,  4.69it/s, Loss=2.0784, Acc=26.05%, LR=0.000200]\n"
          ]
        },
        {
          "output_type": "stream",
          "name": "stdout",
          "text": [
            "Epoch 2/50:\n",
            "  Train Loss: 2.0062, Train Acc: 26.05%\n",
            "  Val Loss: 1.8802, Val Acc: 34.00%\n",
            "  Best Val Acc: 34.00%\n",
            "--------------------------------------------------\n"
          ]
        },
        {
          "output_type": "stream",
          "name": "stderr",
          "text": [
            "Epoch 3/50: 100%|██████████| 352/352 [01:14<00:00,  4.69it/s, Loss=1.8189, Acc=31.27%, LR=0.000300]\n"
          ]
        },
        {
          "output_type": "stream",
          "name": "stdout",
          "text": [
            "Epoch 3/50:\n",
            "  Train Loss: 1.9108, Train Acc: 31.27%\n",
            "  Val Loss: 1.7420, Val Acc: 41.80%\n",
            "  Best Val Acc: 41.80%\n",
            "--------------------------------------------------\n"
          ]
        },
        {
          "output_type": "stream",
          "name": "stderr",
          "text": [
            "Epoch 4/50: 100%|██████████| 352/352 [01:14<00:00,  4.70it/s, Loss=1.7083, Acc=33.50%, LR=0.000400]\n"
          ]
        },
        {
          "output_type": "stream",
          "name": "stdout",
          "text": [
            "Epoch 4/50:\n",
            "  Train Loss: 1.8593, Train Acc: 33.50%\n",
            "  Val Loss: 1.6730, Val Acc: 45.10%\n",
            "  Best Val Acc: 45.10%\n",
            "--------------------------------------------------\n"
          ]
        },
        {
          "output_type": "stream",
          "name": "stderr",
          "text": [
            "Epoch 5/50: 100%|██████████| 352/352 [01:15<00:00,  4.69it/s, Loss=2.0044, Acc=36.29%, LR=0.000500]\n"
          ]
        },
        {
          "output_type": "stream",
          "name": "stdout",
          "text": [
            "Epoch 5/50:\n",
            "  Train Loss: 1.8110, Train Acc: 36.29%\n",
            "  Val Loss: 1.7561, Val Acc: 42.02%\n",
            "  Best Val Acc: 45.10%\n",
            "--------------------------------------------------\n"
          ]
        },
        {
          "output_type": "stream",
          "name": "stderr",
          "text": [
            "Epoch 6/50: 100%|██████████| 352/352 [01:15<00:00,  4.67it/s, Loss=1.8964, Acc=36.93%, LR=0.000600]\n"
          ]
        },
        {
          "output_type": "stream",
          "name": "stdout",
          "text": [
            "Epoch 6/50:\n",
            "  Train Loss: 1.8017, Train Acc: 36.93%\n",
            "  Val Loss: 1.6503, Val Acc: 46.24%\n",
            "  Best Val Acc: 46.24%\n",
            "--------------------------------------------------\n"
          ]
        },
        {
          "output_type": "stream",
          "name": "stderr",
          "text": [
            "Epoch 7/50: 100%|██████████| 352/352 [01:15<00:00,  4.69it/s, Loss=1.6553, Acc=38.19%, LR=0.000700]\n"
          ]
        },
        {
          "output_type": "stream",
          "name": "stdout",
          "text": [
            "Epoch 7/50:\n",
            "  Train Loss: 1.7781, Train Acc: 38.19%\n",
            "  Val Loss: 1.6992, Val Acc: 44.14%\n",
            "  Best Val Acc: 46.24%\n",
            "--------------------------------------------------\n"
          ]
        },
        {
          "output_type": "stream",
          "name": "stderr",
          "text": [
            "Epoch 8/50: 100%|██████████| 352/352 [01:15<00:00,  4.68it/s, Loss=1.7786, Acc=37.46%, LR=0.000800]\n"
          ]
        },
        {
          "output_type": "stream",
          "name": "stdout",
          "text": [
            "Epoch 8/50:\n",
            "  Train Loss: 1.7861, Train Acc: 37.46%\n",
            "  Val Loss: 1.6309, Val Acc: 46.92%\n",
            "  Best Val Acc: 46.92%\n",
            "--------------------------------------------------\n"
          ]
        },
        {
          "output_type": "stream",
          "name": "stderr",
          "text": [
            "Epoch 9/50: 100%|██████████| 352/352 [01:14<00:00,  4.70it/s, Loss=1.9868, Acc=37.66%, LR=0.000900]\n"
          ]
        },
        {
          "output_type": "stream",
          "name": "stdout",
          "text": [
            "Epoch 9/50:\n",
            "  Train Loss: 1.7746, Train Acc: 37.66%\n",
            "  Val Loss: 1.6031, Val Acc: 49.04%\n",
            "  Best Val Acc: 49.04%\n",
            "--------------------------------------------------\n"
          ]
        },
        {
          "output_type": "stream",
          "name": "stderr",
          "text": [
            "Epoch 10/50: 100%|██████████| 352/352 [01:15<00:00,  4.68it/s, Loss=1.7660, Acc=36.92%, LR=0.001000]\n"
          ]
        },
        {
          "output_type": "stream",
          "name": "stdout",
          "text": [
            "Epoch 10/50:\n",
            "  Train Loss: 1.7881, Train Acc: 36.92%\n",
            "  Val Loss: 1.6738, Val Acc: 46.20%\n",
            "  Best Val Acc: 49.04%\n",
            "--------------------------------------------------\n"
          ]
        },
        {
          "output_type": "stream",
          "name": "stderr",
          "text": [
            "Epoch 11/50: 100%|██████████| 352/352 [01:14<00:00,  4.70it/s, Loss=2.0978, Acc=38.18%, LR=0.000998]\n"
          ]
        },
        {
          "output_type": "stream",
          "name": "stdout",
          "text": [
            "Epoch 11/50:\n",
            "  Train Loss: 1.7924, Train Acc: 38.18%\n",
            "  Val Loss: 1.6158, Val Acc: 48.92%\n",
            "  Best Val Acc: 49.04%\n",
            "--------------------------------------------------\n"
          ]
        },
        {
          "output_type": "stream",
          "name": "stderr",
          "text": [
            "Epoch 12/50: 100%|██████████| 352/352 [01:15<00:00,  4.69it/s, Loss=1.7094, Acc=37.15%, LR=0.000994]\n"
          ]
        },
        {
          "output_type": "stream",
          "name": "stdout",
          "text": [
            "Epoch 12/50:\n",
            "  Train Loss: 1.7783, Train Acc: 37.15%\n",
            "  Val Loss: 1.6270, Val Acc: 48.10%\n",
            "  Best Val Acc: 49.04%\n",
            "--------------------------------------------------\n"
          ]
        },
        {
          "output_type": "stream",
          "name": "stderr",
          "text": [
            "Epoch 13/50: 100%|██████████| 352/352 [01:15<00:00,  4.66it/s, Loss=1.6811, Acc=37.99%, LR=0.000986]\n"
          ]
        },
        {
          "output_type": "stream",
          "name": "stdout",
          "text": [
            "Epoch 13/50:\n",
            "  Train Loss: 1.7835, Train Acc: 37.99%\n",
            "  Val Loss: 1.6492, Val Acc: 46.98%\n",
            "  Best Val Acc: 49.04%\n",
            "--------------------------------------------------\n"
          ]
        },
        {
          "output_type": "stream",
          "name": "stderr",
          "text": [
            "Epoch 14/50: 100%|██████████| 352/352 [01:15<00:00,  4.68it/s, Loss=1.6783, Acc=39.00%, LR=0.000976]\n"
          ]
        },
        {
          "output_type": "stream",
          "name": "stdout",
          "text": [
            "Epoch 14/50:\n",
            "  Train Loss: 1.7768, Train Acc: 39.00%\n",
            "  Val Loss: 1.5953, Val Acc: 48.68%\n",
            "  Best Val Acc: 49.04%\n",
            "--------------------------------------------------\n"
          ]
        },
        {
          "output_type": "stream",
          "name": "stderr",
          "text": [
            "Epoch 15/50: 100%|██████████| 352/352 [01:15<00:00,  4.68it/s, Loss=1.8637, Acc=38.63%, LR=0.000962]\n"
          ]
        },
        {
          "output_type": "stream",
          "name": "stdout",
          "text": [
            "Epoch 15/50:\n",
            "  Train Loss: 1.7529, Train Acc: 38.63%\n",
            "  Val Loss: 1.5861, Val Acc: 49.54%\n",
            "  Best Val Acc: 49.54%\n",
            "--------------------------------------------------\n"
          ]
        },
        {
          "output_type": "stream",
          "name": "stderr",
          "text": [
            "Epoch 16/50: 100%|██████████| 352/352 [01:15<00:00,  4.67it/s, Loss=1.6507, Acc=39.15%, LR=0.000946]\n"
          ]
        },
        {
          "output_type": "stream",
          "name": "stdout",
          "text": [
            "Epoch 16/50:\n",
            "  Train Loss: 1.7450, Train Acc: 39.15%\n",
            "  Val Loss: 1.5499, Val Acc: 51.10%\n",
            "  Best Val Acc: 51.10%\n",
            "--------------------------------------------------\n"
          ]
        },
        {
          "output_type": "stream",
          "name": "stderr",
          "text": [
            "Epoch 17/50: 100%|██████████| 352/352 [01:15<00:00,  4.68it/s, Loss=1.7546, Acc=40.13%, LR=0.000926]\n"
          ]
        },
        {
          "output_type": "stream",
          "name": "stdout",
          "text": [
            "Epoch 17/50:\n",
            "  Train Loss: 1.7242, Train Acc: 40.13%\n",
            "  Val Loss: 1.5742, Val Acc: 50.20%\n",
            "  Best Val Acc: 51.10%\n",
            "--------------------------------------------------\n"
          ]
        },
        {
          "output_type": "stream",
          "name": "stderr",
          "text": [
            "Epoch 18/50: 100%|██████████| 352/352 [01:15<00:00,  4.69it/s, Loss=1.7195, Acc=39.94%, LR=0.000905]\n"
          ]
        },
        {
          "output_type": "stream",
          "name": "stdout",
          "text": [
            "Epoch 18/50:\n",
            "  Train Loss: 1.7272, Train Acc: 39.94%\n",
            "  Val Loss: 1.5336, Val Acc: 51.40%\n",
            "  Best Val Acc: 51.40%\n",
            "--------------------------------------------------\n"
          ]
        },
        {
          "output_type": "stream",
          "name": "stderr",
          "text": [
            "Epoch 19/50: 100%|██████████| 352/352 [01:15<00:00,  4.67it/s, Loss=1.4506, Acc=38.95%, LR=0.000880]\n"
          ]
        },
        {
          "output_type": "stream",
          "name": "stdout",
          "text": [
            "Epoch 19/50:\n",
            "  Train Loss: 1.7374, Train Acc: 38.95%\n",
            "  Val Loss: 1.5241, Val Acc: 53.00%\n",
            "  Best Val Acc: 53.00%\n",
            "--------------------------------------------------\n"
          ]
        },
        {
          "output_type": "stream",
          "name": "stderr",
          "text": [
            "Epoch 20/50: 100%|██████████| 352/352 [01:15<00:00,  4.69it/s, Loss=1.5778, Acc=39.80%, LR=0.000854]\n"
          ]
        },
        {
          "output_type": "stream",
          "name": "stdout",
          "text": [
            "Epoch 20/50:\n",
            "  Train Loss: 1.7323, Train Acc: 39.80%\n",
            "  Val Loss: 1.5269, Val Acc: 52.98%\n",
            "  Best Val Acc: 53.00%\n",
            "--------------------------------------------------\n"
          ]
        },
        {
          "output_type": "stream",
          "name": "stderr",
          "text": [
            "Epoch 21/50: 100%|██████████| 352/352 [01:15<00:00,  4.69it/s, Loss=1.6136, Acc=40.28%, LR=0.000825]\n"
          ]
        },
        {
          "output_type": "stream",
          "name": "stdout",
          "text": [
            "Epoch 21/50:\n",
            "  Train Loss: 1.6988, Train Acc: 40.28%\n",
            "  Val Loss: 1.5335, Val Acc: 53.28%\n",
            "  Best Val Acc: 53.28%\n",
            "--------------------------------------------------\n"
          ]
        },
        {
          "output_type": "stream",
          "name": "stderr",
          "text": [
            "Epoch 22/50: 100%|██████████| 352/352 [01:15<00:00,  4.68it/s, Loss=1.5085, Acc=40.60%, LR=0.000794]\n"
          ]
        },
        {
          "output_type": "stream",
          "name": "stdout",
          "text": [
            "Epoch 22/50:\n",
            "  Train Loss: 1.7194, Train Acc: 40.60%\n",
            "  Val Loss: 1.5040, Val Acc: 54.30%\n",
            "  Best Val Acc: 54.30%\n",
            "--------------------------------------------------\n"
          ]
        },
        {
          "output_type": "stream",
          "name": "stderr",
          "text": [
            "Epoch 23/50: 100%|██████████| 352/352 [01:15<00:00,  4.67it/s, Loss=1.4769, Acc=41.41%, LR=0.000761]\n"
          ]
        },
        {
          "output_type": "stream",
          "name": "stdout",
          "text": [
            "Epoch 23/50:\n",
            "  Train Loss: 1.7114, Train Acc: 41.41%\n",
            "  Val Loss: 1.5137, Val Acc: 54.02%\n",
            "  Best Val Acc: 54.30%\n",
            "--------------------------------------------------\n"
          ]
        },
        {
          "output_type": "stream",
          "name": "stderr",
          "text": [
            "Epoch 24/50: 100%|██████████| 352/352 [01:15<00:00,  4.68it/s, Loss=1.9804, Acc=41.97%, LR=0.000727]\n"
          ]
        },
        {
          "output_type": "stream",
          "name": "stdout",
          "text": [
            "Epoch 24/50:\n",
            "  Train Loss: 1.6789, Train Acc: 41.97%\n",
            "  Val Loss: 1.5046, Val Acc: 53.94%\n",
            "  Best Val Acc: 54.30%\n",
            "--------------------------------------------------\n"
          ]
        },
        {
          "output_type": "stream",
          "name": "stderr",
          "text": [
            "Epoch 25/50: 100%|██████████| 352/352 [01:15<00:00,  4.68it/s, Loss=1.4447, Acc=42.70%, LR=0.000691]\n"
          ]
        },
        {
          "output_type": "stream",
          "name": "stdout",
          "text": [
            "Epoch 25/50:\n",
            "  Train Loss: 1.6744, Train Acc: 42.70%\n",
            "  Val Loss: 1.5155, Val Acc: 53.42%\n",
            "  Best Val Acc: 54.30%\n",
            "--------------------------------------------------\n"
          ]
        },
        {
          "output_type": "stream",
          "name": "stderr",
          "text": [
            "Epoch 26/50: 100%|██████████| 352/352 [01:15<00:00,  4.68it/s, Loss=1.9314, Acc=41.61%, LR=0.000655]\n"
          ]
        },
        {
          "output_type": "stream",
          "name": "stdout",
          "text": [
            "Epoch 26/50:\n",
            "  Train Loss: 1.6749, Train Acc: 41.61%\n",
            "  Val Loss: 1.4742, Val Acc: 55.54%\n",
            "  Best Val Acc: 55.54%\n",
            "--------------------------------------------------\n"
          ]
        },
        {
          "output_type": "stream",
          "name": "stderr",
          "text": [
            "Epoch 27/50: 100%|██████████| 352/352 [01:15<00:00,  4.68it/s, Loss=1.9561, Acc=43.31%, LR=0.000617]\n"
          ]
        },
        {
          "output_type": "stream",
          "name": "stdout",
          "text": [
            "Epoch 27/50:\n",
            "  Train Loss: 1.6542, Train Acc: 43.31%\n",
            "  Val Loss: 1.4622, Val Acc: 55.84%\n",
            "  Best Val Acc: 55.84%\n",
            "--------------------------------------------------\n"
          ]
        },
        {
          "output_type": "stream",
          "name": "stderr",
          "text": [
            "Epoch 28/50: 100%|██████████| 352/352 [01:15<00:00,  4.67it/s, Loss=1.3090, Acc=44.89%, LR=0.000578]\n"
          ]
        },
        {
          "output_type": "stream",
          "name": "stdout",
          "text": [
            "Epoch 28/50:\n",
            "  Train Loss: 1.6401, Train Acc: 44.89%\n",
            "  Val Loss: 1.4450, Val Acc: 56.46%\n",
            "  Best Val Acc: 56.46%\n",
            "--------------------------------------------------\n"
          ]
        },
        {
          "output_type": "stream",
          "name": "stderr",
          "text": [
            "Epoch 29/50: 100%|██████████| 352/352 [01:15<00:00,  4.68it/s, Loss=1.3987, Acc=41.18%, LR=0.000539]\n"
          ]
        },
        {
          "output_type": "stream",
          "name": "stdout",
          "text": [
            "Epoch 29/50:\n",
            "  Train Loss: 1.6520, Train Acc: 41.18%\n",
            "  Val Loss: 1.4493, Val Acc: 57.02%\n",
            "  Best Val Acc: 57.02%\n",
            "--------------------------------------------------\n"
          ]
        },
        {
          "output_type": "stream",
          "name": "stderr",
          "text": [
            "Epoch 30/50: 100%|██████████| 352/352 [01:15<00:00,  4.69it/s, Loss=1.4211, Acc=45.36%, LR=0.000500]\n"
          ]
        },
        {
          "output_type": "stream",
          "name": "stdout",
          "text": [
            "Epoch 30/50:\n",
            "  Train Loss: 1.6183, Train Acc: 45.36%\n",
            "  Val Loss: 1.4484, Val Acc: 57.00%\n",
            "  Best Val Acc: 57.02%\n",
            "--------------------------------------------------\n"
          ]
        },
        {
          "output_type": "stream",
          "name": "stderr",
          "text": [
            "Epoch 31/50: 100%|██████████| 352/352 [01:15<00:00,  4.69it/s, Loss=1.5955, Acc=44.82%, LR=0.000461]\n"
          ]
        },
        {
          "output_type": "stream",
          "name": "stdout",
          "text": [
            "Epoch 31/50:\n",
            "  Train Loss: 1.6181, Train Acc: 44.82%\n",
            "  Val Loss: 1.4142, Val Acc: 58.26%\n",
            "  Best Val Acc: 58.26%\n",
            "--------------------------------------------------\n"
          ]
        },
        {
          "output_type": "stream",
          "name": "stderr",
          "text": [
            "Epoch 32/50: 100%|██████████| 352/352 [01:15<00:00,  4.65it/s, Loss=1.4426, Acc=44.59%, LR=0.000422]\n"
          ]
        },
        {
          "output_type": "stream",
          "name": "stdout",
          "text": [
            "Epoch 32/50:\n",
            "  Train Loss: 1.6160, Train Acc: 44.59%\n",
            "  Val Loss: 1.4101, Val Acc: 59.06%\n",
            "  Best Val Acc: 59.06%\n",
            "--------------------------------------------------\n"
          ]
        },
        {
          "output_type": "stream",
          "name": "stderr",
          "text": [
            "Epoch 33/50: 100%|██████████| 352/352 [01:15<00:00,  4.68it/s, Loss=1.7247, Acc=46.96%, LR=0.000383]\n"
          ]
        },
        {
          "output_type": "stream",
          "name": "stdout",
          "text": [
            "Epoch 33/50:\n",
            "  Train Loss: 1.5773, Train Acc: 46.96%\n",
            "  Val Loss: 1.4071, Val Acc: 58.48%\n",
            "  Best Val Acc: 59.06%\n",
            "--------------------------------------------------\n"
          ]
        },
        {
          "output_type": "stream",
          "name": "stderr",
          "text": [
            "Epoch 34/50: 100%|██████████| 352/352 [01:15<00:00,  4.68it/s, Loss=1.4268, Acc=46.87%, LR=0.000345]\n"
          ]
        },
        {
          "output_type": "stream",
          "name": "stdout",
          "text": [
            "Epoch 34/50:\n",
            "  Train Loss: 1.5861, Train Acc: 46.87%\n",
            "  Val Loss: 1.3660, Val Acc: 60.88%\n",
            "  Best Val Acc: 60.88%\n",
            "--------------------------------------------------\n"
          ]
        },
        {
          "output_type": "stream",
          "name": "stderr",
          "text": [
            "Epoch 35/50: 100%|██████████| 352/352 [01:15<00:00,  4.68it/s, Loss=1.7660, Acc=45.34%, LR=0.000309]\n"
          ]
        },
        {
          "output_type": "stream",
          "name": "stdout",
          "text": [
            "Epoch 35/50:\n",
            "  Train Loss: 1.5780, Train Acc: 45.34%\n",
            "  Val Loss: 1.3527, Val Acc: 61.10%\n",
            "  Best Val Acc: 61.10%\n",
            "--------------------------------------------------\n"
          ]
        },
        {
          "output_type": "stream",
          "name": "stderr",
          "text": [
            "Epoch 36/50: 100%|██████████| 352/352 [01:15<00:00,  4.68it/s, Loss=1.5290, Acc=46.67%, LR=0.000273]\n"
          ]
        },
        {
          "output_type": "stream",
          "name": "stdout",
          "text": [
            "Epoch 36/50:\n",
            "  Train Loss: 1.5718, Train Acc: 46.67%\n",
            "  Val Loss: 1.3776, Val Acc: 60.52%\n",
            "  Best Val Acc: 61.10%\n",
            "--------------------------------------------------\n"
          ]
        },
        {
          "output_type": "stream",
          "name": "stderr",
          "text": [
            "Epoch 37/50: 100%|██████████| 352/352 [01:15<00:00,  4.67it/s, Loss=1.4719, Acc=47.17%, LR=0.000239]\n"
          ]
        },
        {
          "output_type": "stream",
          "name": "stdout",
          "text": [
            "Epoch 37/50:\n",
            "  Train Loss: 1.5695, Train Acc: 47.17%\n",
            "  Val Loss: 1.3640, Val Acc: 60.76%\n",
            "  Best Val Acc: 61.10%\n",
            "--------------------------------------------------\n"
          ]
        },
        {
          "output_type": "stream",
          "name": "stderr",
          "text": [
            "Epoch 38/50: 100%|██████████| 352/352 [01:15<00:00,  4.68it/s, Loss=1.8429, Acc=45.92%, LR=0.000206]\n"
          ]
        },
        {
          "output_type": "stream",
          "name": "stdout",
          "text": [
            "Epoch 38/50:\n",
            "  Train Loss: 1.5740, Train Acc: 45.92%\n",
            "  Val Loss: 1.3404, Val Acc: 62.58%\n",
            "  Best Val Acc: 62.58%\n",
            "--------------------------------------------------\n"
          ]
        },
        {
          "output_type": "stream",
          "name": "stderr",
          "text": [
            "Epoch 39/50: 100%|██████████| 352/352 [01:15<00:00,  4.69it/s, Loss=1.3356, Acc=47.15%, LR=0.000175]\n"
          ]
        },
        {
          "output_type": "stream",
          "name": "stdout",
          "text": [
            "Epoch 39/50:\n",
            "  Train Loss: 1.5726, Train Acc: 47.15%\n",
            "  Val Loss: 1.3353, Val Acc: 61.96%\n",
            "  Best Val Acc: 62.58%\n",
            "--------------------------------------------------\n"
          ]
        },
        {
          "output_type": "stream",
          "name": "stderr",
          "text": [
            "Epoch 40/50: 100%|██████████| 352/352 [01:15<00:00,  4.66it/s, Loss=1.4422, Acc=48.40%, LR=0.000146]\n"
          ]
        },
        {
          "output_type": "stream",
          "name": "stdout",
          "text": [
            "Epoch 40/50:\n",
            "  Train Loss: 1.5538, Train Acc: 48.40%\n",
            "  Val Loss: 1.3321, Val Acc: 62.54%\n",
            "  Best Val Acc: 62.58%\n",
            "--------------------------------------------------\n"
          ]
        },
        {
          "output_type": "stream",
          "name": "stderr",
          "text": [
            "Epoch 41/50: 100%|██████████| 352/352 [01:15<00:00,  4.67it/s, Loss=1.5647, Acc=48.45%, LR=0.000120]\n"
          ]
        },
        {
          "output_type": "stream",
          "name": "stdout",
          "text": [
            "Epoch 41/50:\n",
            "  Train Loss: 1.5360, Train Acc: 48.45%\n",
            "  Val Loss: 1.3200, Val Acc: 62.30%\n",
            "  Best Val Acc: 62.58%\n",
            "--------------------------------------------------\n"
          ]
        },
        {
          "output_type": "stream",
          "name": "stderr",
          "text": [
            "Epoch 42/50: 100%|██████████| 352/352 [01:15<00:00,  4.69it/s, Loss=1.3734, Acc=46.88%, LR=0.000095]\n"
          ]
        },
        {
          "output_type": "stream",
          "name": "stdout",
          "text": [
            "Epoch 42/50:\n",
            "  Train Loss: 1.5628, Train Acc: 46.88%\n",
            "  Val Loss: 1.3122, Val Acc: 63.54%\n",
            "  Best Val Acc: 63.54%\n",
            "--------------------------------------------------\n"
          ]
        },
        {
          "output_type": "stream",
          "name": "stderr",
          "text": [
            "Epoch 43/50: 100%|██████████| 352/352 [01:15<00:00,  4.68it/s, Loss=1.3470, Acc=47.98%, LR=0.000074]\n"
          ]
        },
        {
          "output_type": "stream",
          "name": "stdout",
          "text": [
            "Epoch 43/50:\n",
            "  Train Loss: 1.5239, Train Acc: 47.98%\n",
            "  Val Loss: 1.3096, Val Acc: 63.00%\n",
            "  Best Val Acc: 63.54%\n",
            "--------------------------------------------------\n"
          ]
        },
        {
          "output_type": "stream",
          "name": "stderr",
          "text": [
            "Epoch 44/50: 100%|██████████| 352/352 [01:15<00:00,  4.68it/s, Loss=1.4215, Acc=49.32%, LR=0.000054]\n"
          ]
        },
        {
          "output_type": "stream",
          "name": "stdout",
          "text": [
            "Epoch 44/50:\n",
            "  Train Loss: 1.5263, Train Acc: 49.32%\n",
            "  Val Loss: 1.3008, Val Acc: 62.98%\n",
            "  Best Val Acc: 63.54%\n",
            "--------------------------------------------------\n"
          ]
        },
        {
          "output_type": "stream",
          "name": "stderr",
          "text": [
            "Epoch 45/50: 100%|██████████| 352/352 [01:15<00:00,  4.66it/s, Loss=1.6412, Acc=48.16%, LR=0.000038]\n"
          ]
        },
        {
          "output_type": "stream",
          "name": "stdout",
          "text": [
            "Epoch 45/50:\n",
            "  Train Loss: 1.5469, Train Acc: 48.16%\n",
            "  Val Loss: 1.3111, Val Acc: 63.80%\n",
            "  Best Val Acc: 63.80%\n",
            "--------------------------------------------------\n"
          ]
        },
        {
          "output_type": "stream",
          "name": "stderr",
          "text": [
            "Epoch 46/50: 100%|██████████| 352/352 [01:15<00:00,  4.68it/s, Loss=1.2763, Acc=50.32%, LR=0.000024]\n"
          ]
        },
        {
          "output_type": "stream",
          "name": "stdout",
          "text": [
            "Epoch 46/50:\n",
            "  Train Loss: 1.5141, Train Acc: 50.32%\n",
            "  Val Loss: 1.3047, Val Acc: 63.22%\n",
            "  Best Val Acc: 63.80%\n",
            "--------------------------------------------------\n"
          ]
        },
        {
          "output_type": "stream",
          "name": "stderr",
          "text": [
            "Epoch 47/50: 100%|██████████| 352/352 [01:15<00:00,  4.69it/s, Loss=1.2902, Acc=48.72%, LR=0.000014]\n"
          ]
        },
        {
          "output_type": "stream",
          "name": "stdout",
          "text": [
            "Epoch 47/50:\n",
            "  Train Loss: 1.5214, Train Acc: 48.72%\n",
            "  Val Loss: 1.3070, Val Acc: 62.50%\n",
            "  Best Val Acc: 63.80%\n",
            "--------------------------------------------------\n"
          ]
        },
        {
          "output_type": "stream",
          "name": "stderr",
          "text": [
            "Epoch 48/50: 100%|██████████| 352/352 [01:15<00:00,  4.69it/s, Loss=1.5603, Acc=50.30%, LR=0.000006]\n"
          ]
        },
        {
          "output_type": "stream",
          "name": "stdout",
          "text": [
            "Epoch 48/50:\n",
            "  Train Loss: 1.4972, Train Acc: 50.30%\n",
            "  Val Loss: 1.3153, Val Acc: 62.88%\n",
            "  Best Val Acc: 63.80%\n",
            "--------------------------------------------------\n"
          ]
        },
        {
          "output_type": "stream",
          "name": "stderr",
          "text": [
            "Epoch 49/50: 100%|██████████| 352/352 [01:15<00:00,  4.69it/s, Loss=1.3344, Acc=47.52%, LR=0.000002]\n"
          ]
        },
        {
          "output_type": "stream",
          "name": "stdout",
          "text": [
            "Epoch 49/50:\n",
            "  Train Loss: 1.5413, Train Acc: 47.52%\n",
            "  Val Loss: 1.3078, Val Acc: 62.92%\n",
            "  Best Val Acc: 63.80%\n",
            "--------------------------------------------------\n"
          ]
        },
        {
          "output_type": "stream",
          "name": "stderr",
          "text": [
            "Epoch 50/50: 100%|██████████| 352/352 [01:15<00:00,  4.69it/s, Loss=1.6778, Acc=50.26%, LR=0.000000]\n"
          ]
        },
        {
          "output_type": "stream",
          "name": "stdout",
          "text": [
            "Epoch 50/50:\n",
            "  Train Loss: 1.5350, Train Acc: 50.26%\n",
            "  Val Loss: 1.3055, Val Acc: 63.74%\n",
            "  Best Val Acc: 63.80%\n",
            "--------------------------------------------------\n",
            "Training completed!\n"
          ]
        }
      ],
      "source": [
        "# Training loop\n",
        "train_losses = []\n",
        "train_accuracies = []\n",
        "val_losses = []\n",
        "val_accuracies = []\n",
        "\n",
        "best_val_acc = 0\n",
        "best_model_state = None\n",
        "\n",
        "print('Starting training...')\n",
        "\n",
        "for epoch in range(config.epochs):\n",
        "    # Training\n",
        "    train_loss, train_acc = train_epoch(model, train_loader, optimizer, scheduler, criterion, epoch)\n",
        "\n",
        "    # Validation\n",
        "    val_loss, val_acc = validate(model, val_loader, criterion)\n",
        "\n",
        "    # Save best model\n",
        "    if val_acc > best_val_acc:\n",
        "        best_val_acc = val_acc\n",
        "        best_model_state = model.state_dict().copy()\n",
        "\n",
        "    # Store metrics\n",
        "    train_losses.append(train_loss)\n",
        "    train_accuracies.append(train_acc)\n",
        "    val_losses.append(val_loss)\n",
        "    val_accuracies.append(val_acc)\n",
        "\n",
        "    print(f'Epoch {epoch+1}/{config.epochs}:')\n",
        "    print(f'  Train Loss: {train_loss:.4f}, Train Acc: {train_acc:.2f}%')\n",
        "    print(f'  Val Loss: {val_loss:.4f}, Val Acc: {val_acc:.2f}%')\n",
        "    print(f'  Best Val Acc: {best_val_acc:.2f}%')\n",
        "    print('-' * 50)\n",
        "\n",
        "print('Training completed!')"
      ]
    },
    {
      "cell_type": "markdown",
      "metadata": {
        "id": "eM831Guf31WX"
      },
      "source": [
        "## Final Evaluation"
      ]
    },
    {
      "cell_type": "code",
      "execution_count": 15,
      "metadata": {
        "colab": {
          "base_uri": "https://localhost:8080/"
        },
        "id": "lRhIkKF431WX",
        "outputId": "9ac2b772-b38c-4ce6-da8f-9374f2dd6428"
      },
      "outputs": [
        {
          "output_type": "stream",
          "name": "stdout",
          "text": [
            "\n",
            "FINAL RESULTS:\n",
            "Best Validation Accuracy: 63.80%\n",
            "Final Test Accuracy: 66.93%\n",
            "Test Loss: 1.2189\n"
          ]
        }
      ],
      "source": [
        "# Load best model for final evaluation\n",
        "if best_model_state is not None:\n",
        "    model.load_state_dict(best_model_state)\n",
        "\n",
        "# Final test evaluation\n",
        "test_loss, test_acc = validate(model, test_loader, criterion)\n",
        "\n",
        "print(f'\\nFINAL RESULTS:')\n",
        "print(f'Best Validation Accuracy: {best_val_acc:.2f}%')\n",
        "print(f'Final Test Accuracy: {test_acc:.2f}%')\n",
        "print(f'Test Loss: {test_loss:.4f}')"
      ]
    },
    {
      "cell_type": "markdown",
      "metadata": {
        "id": "xi4wjSBm31WX"
      },
      "source": [
        "## Visualization and Analysis"
      ]
    },
    {
      "cell_type": "code",
      "execution_count": 16,
      "metadata": {
        "colab": {
          "base_uri": "https://localhost:8080/",
          "height": 507
        },
        "id": "Idgs2p7l31WX",
        "outputId": "315bc18a-4d1d-42f4-9ab8-ecd580c4e3e2"
      },
      "outputs": [
        {
          "output_type": "display_data",
          "data": {
            "text/plain": [
              "<Figure size 1500x500 with 3 Axes>"
            ],
            "image/png": "[encoded data removed]"
          },
          "metadata": {}
        }
      ],
      "source": [
        "plt.figure(figsize=(15, 5))\n",
        "\n",
        "plt.subplot(1, 3, 1)\n",
        "plt.plot(train_losses, label='Training Loss', color='blue')\n",
        "plt.plot(val_losses, label='Validation Loss', color='red')\n",
        "plt.title('Training and Validation Loss')\n",
        "plt.xlabel('Epoch')\n",
        "plt.ylabel('Loss')\n",
        "plt.legend()\n",
        "plt.grid(True)\n",
        "\n",
        "plt.subplot(1, 3, 2)\n",
        "plt.plot(train_accuracies, label='Training Accuracy', color='blue')\n",
        "plt.plot(val_accuracies, label='Validation Accuracy', color='red')\n",
        "plt.title('Training and Validation Accuracy')\n",
        "plt.xlabel('Epoch')\n",
        "plt.ylabel('Accuracy (%)')\n",
        "plt.legend()\n",
        "plt.grid(True)\n",
        "\n",
        "plt.subplot(1, 3, 3)\n",
        "epochs_range = range(1, len(train_accuracies) + 1)\n",
        "plt.plot(epochs_range, train_accuracies, label='Training', color='blue')\n",
        "plt.plot(epochs_range, val_accuracies, label='Validation', color='red')\n",
        "plt.axhline(y=test_acc, color='green', linestyle='--', label=f'Test Acc: {test_acc:.2f}%')\n",
        "plt.title('Model Performance Summary')\n",
        "plt.xlabel('Epoch')\n",
        "plt.ylabel('Accuracy (%)')\n",
        "plt.legend()\n",
        "plt.grid(True)\n",
        "\n",
        "plt.tight_layout()\n",
        "plt.show()"
      ]
    },
    {
      "cell_type": "code",
      "execution_count": 17,
      "metadata": {
        "colab": {
          "base_uri": "https://localhost:8080/",
          "height": 1000
        },
        "id": "0VY_O8by31WX",
        "outputId": "f10422ab-3727-4083-8e65-b6c85f2101ae"
      },
      "outputs": [
        {
          "output_type": "display_data",
          "data": {
            "text/plain": [
              "<Figure size 1500x1000 with 12 Axes>"
            ],
            "image/png": "[encoded data removed]"
          },
          "metadata": {}
        }
      ],
      "source": [
        "# Sample predictions visualization\n",
        "classes = ['airplane', 'automobile', 'bird', 'cat', 'deer', 'dog', 'frog', 'horse', 'ship', 'truck']\n",
        "\n",
        "def visualize_predictions(model, test_loader, num_images=12):\n",
        "    model.eval()\n",
        "    images, labels = next(iter(test_loader))\n",
        "    images, labels = images[:num_images].to(device), labels[:num_images]\n",
        "\n",
        "    with torch.no_grad():\n",
        "        outputs = model(images)\n",
        "        predictions = outputs.argmax(dim=1)\n",
        "\n",
        "    # Move to CPU for visualization\n",
        "    images = images.cpu()\n",
        "    predictions = predictions.cpu()\n",
        "\n",
        "    plt.figure(figsize=(15, 10))\n",
        "    for i in range(num_images):\n",
        "        plt.subplot(3, 4, i + 1)\n",
        "\n",
        "        # Denormalize image\n",
        "        img = images[i].clone()\n",
        "        img = img * torch.tensor([0.2470, 0.2435, 0.2616]).view(3, 1, 1) + torch.tensor([0.4914, 0.4822, 0.4465]).view(3, 1, 1)\n",
        "        img = torch.clamp(img, 0, 1)\n",
        "\n",
        "        plt.imshow(img.permute(1, 2, 0))\n",
        "        plt.title(f'True: {classes[labels[i]]}\\nPred: {classes[predictions[i]]}',\n",
        "                 color='green' if labels[i] == predictions[i] else 'red')\n",
        "        plt.axis('off')\n",
        "\n",
        "    plt.tight_layout()\n",
        "    plt.show()\n",
        "\n",
        "visualize_predictions(model, test_loader)"
      ]
    },
    {
      "cell_type": "markdown",
      "metadata": {
        "id": "as83Iqlf31WX"
      },
      "source": [
        "## Model Analysis and Architecture Summary"
      ]
    },
    {
      "cell_type": "code",
      "execution_count": 20,
      "metadata": {
        "colab": {
          "base_uri": "https://localhost:8080/"
        },
        "id": "qOxjcwS931WX",
        "outputId": "16c2deed-e947-4634-c9e4-3a1e1567dc78"
      },
      "outputs": [
        {
          "output_type": "stream",
          "name": "stdout",
          "text": [
            "============================================================\n",
            "VISION TRANSFORMER ARCHITECTURE SUMMARY\n",
            "============================================================\n",
            "Image Size: 32x32\n",
            "Patch Size: 4x4\n",
            "Number of Patches: 64\n",
            "Embedding Dimension: 320\n",
            "Number of Transformer Layers: 8\n",
            "Number of Attention Heads: 8\n",
            "MLP Ratio: 4\n",
            "Dropout Rate: 0.1\n",
            "Total Parameters: 9,896,650\n",
            "\n",
            "============================================================\n",
            "TRAINING CONFIGURATION\n",
            "============================================================\n",
            "Batch Size: 128\n",
            "Learning Rate: 0.001\n",
            "Weight Decay: 0.0005\n",
            "Training Epochs: 50\n",
            "Warmup Epochs: 10\n",
            "Mixup Alpha: 0.8\n",
            "Label Smoothing: 0.1\n",
            "\n",
            "============================================================\n",
            "FINAL RESULTS\n",
            "============================================================\n",
            "Best Validation Accuracy: 63.80%\n",
            "Final Test Accuracy: 66.93%\n"
          ]
        }
      ],
      "source": [
        "print('=' * 60)\n",
        "print('VISION TRANSFORMER ARCHITECTURE SUMMARY')\n",
        "print('=' * 60)\n",
        "\n",
        "print(f'Image Size: {config.img_size}x{config.img_size}')\n",
        "print(f'Patch Size: {config.patch_size}x{config.patch_size}')\n",
        "print(f'Number of Patches: {(config.img_size // config.patch_size) ** 2}')\n",
        "print(f'Embedding Dimension: {config.embed_dim}')\n",
        "print(f'Number of Transformer Layers: {config.num_layers}')\n",
        "print(f'Number of Attention Heads: {config.num_heads}')\n",
        "print(f'MLP Ratio: {config.mlp_ratio}')\n",
        "print(f'Dropout Rate: {config.dropout}')\n",
        "print(f'Total Parameters: {total_params:,}')\n",
        "\n",
        "print('\\n' + '=' * 60)\n",
        "print('TRAINING CONFIGURATION')\n",
        "print('=' * 60)\n",
        "\n",
        "print(f'Batch Size: {config.batch_size}')\n",
        "print(f'Learning Rate: {config.learning_rate}')\n",
        "print(f'Weight Decay: {config.weight_decay}')\n",
        "print(f'Training Epochs: {config.epochs}')\n",
        "print(f'Warmup Epochs: {config.warmup_epochs}')\n",
        "print(f'Mixup Alpha: {config.mixup_alpha}')\n",
        "print(f\"Label Smoothing: 0.1\")\n",
        "\n",
        "print('\\n' + '=' * 60)\n",
        "print('FINAL RESULTS')\n",
        "print('=' * 60)\n",
        "\n",
        "print(f'Best Validation Accuracy: {best_val_acc:.2f}%')\n",
        "print(f'Final Test Accuracy: {test_acc:.2f}%')\n",
        "\n",
        "# Save results\n",
        "results = {\n",
        "    'model_config': {\n",
        "        'img_size': config.img_size,\n",
        "        'patch_size': config.patch_size,\n",
        "        'embed_dim': config.embed_dim,\n",
        "        'num_layers': config.num_layers,\n",
        "        'num_heads': config.num_heads,\n",
        "        'mlp_ratio': config.mlp_ratio,\n",
        "        'total_params': total_params\n",
        "    },\n",
        "    'training_config': {\n",
        "        'batch_size': config.batch_size,\n",
        "        'learning_rate': config.learning_rate,\n",
        "        'weight_decay': config.weight_decay,\n",
        "        'epochs': config.epochs,\n",
        "        'warmup_epochs': config.warmup_epochs\n",
        "    },\n",
        "    'results': {\n",
        "        'best_val_accuracy': best_val_acc,\n",
        "        'final_test_accuracy': test_acc,\n",
        "        'test_loss': test_loss\n",
        "    }\n",
        "}"
      ]
    },
    {
      "cell_type": "code",
      "source": [],
      "metadata": {
        "id": "EpO9ptYRUEBU"
      },
      "execution_count": null,
      "outputs": []
    }
  ],
  "metadata": {
    "kernelspec": {
      "display_name": "Python 3",
      "name": "python3"
    },
    "language_info": {
      "codemirror_mode": {
        "name": "ipython",
        "version": 3
      },
      "file_extension": ".py",
      "mimetype": "text/x-python",
      "name": "python",
      "nbconvert_exporter": "python",
      "pygments_lexer": "ipython3",
      "version": "3.8.10"
    },
    "colab": {
      "provenance": [],
      "gpuType": "T4"
    },
    "accelerator": "GPU"
  },
  "nbformat": 4,
  "nbformat_minor": 0
}